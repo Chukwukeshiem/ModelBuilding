{
 "cells": [
  {
   "cell_type": "code",
   "execution_count": 3,
   "id": "b472503c-f072-44cd-b75f-88cfa0be2196",
   "metadata": {},
   "outputs": [
    {
     "name": "stdout",
     "output_type": "stream",
     "text": [
      "Requirement already satisfied: beautifulsoup4 in c:\\users\\emmanuel\\anaconda3\\lib\\site-packages (4.13.4)\n",
      "Requirement already satisfied: soupsieve>1.2 in c:\\users\\emmanuel\\anaconda3\\lib\\site-packages (from beautifulsoup4) (2.5)\n",
      "Requirement already satisfied: typing-extensions>=4.0.0 in c:\\users\\emmanuel\\anaconda3\\lib\\site-packages (from beautifulsoup4) (4.11.0)\n",
      "Requirement already satisfied: lxml in c:\\users\\emmanuel\\anaconda3\\lib\\site-packages (5.2.1)\n",
      "<title>List of Falcon 9 and Falcon Heavy launches - Wikipedia</title>\n"
     ]
    }
   ],
   "source": [
    "# Install necessary libraries\n",
    "!pip install beautifulsoup4\n",
    "!pip install lxml\n",
    "\n",
    "# Import Libraries\n",
    "import requests\n",
    "from bs4 import BeautifulSoup\n",
    "import pandas as pd\n",
    "import numpy as np\n",
    "\n",
    "# Define the (live) static URL\n",
    "static_url = \"https://en.wikipedia.org/wiki/List_of_Falcon_9_and_Falcon_Heavy_launches\"\n",
    "\n",
    "# Set headers\n",
    "headers = {\n",
    "    \"User-Agent\": \"Mozilla/5.0 (Windows NT 10.0; Win64; x64) AppleWebKit/537.36 (KHTML, like Gecko) Chrome/58.0.3029.110 Safari/537.3\"\n",
    "}\n",
    "\n",
    "# Request the webpage with headers\n",
    "response = requests.get(static_url, headers=headers)\n",
    "\n",
    "# Create BeautifulSoup object\n",
    "soup = BeautifulSoup(response.text, 'lxml')\n",
    "\n",
    "# Print the page title to verify\n",
    "print(soup.title)\n"
   ]
  },
  {
   "cell_type": "code",
   "execution_count": 5,
   "id": "8fe9f0ce-a5d9-440a-92fd-37bf2e2c1a73",
   "metadata": {},
   "outputs": [
    {
     "name": "stdout",
     "output_type": "stream",
     "text": [
      "['Flight No.', 'UTC', 'Version,booster', 'Launchsite', '[g]', 'Payload mass', 'Orbit', 'Customer', 'Launchoutcome', 'Boosterlanding', '418', '419', '420', '421', '422', '423', '424', '425', '426', '427', '428', '429', '430', '431', '432', '433', '434', '435', '436', '437', '438', '439', '440', '441', '442', '443', '444', '445', '446', '447', '448', '449', '450', '451', '452', '453', '454', '455', '456', '457', '458', '459', '460', '461', '462', '463', '464', '465']\n"
     ]
    }
   ],
   "source": [
    "# Find all tables\n",
    "html_tables = soup.find_all('table')\n",
    "\n",
    "# Select the 3rd table\n",
    "first_launch_table = html_tables[2]\n",
    "\n",
    "# Helper function to clean header names\n",
    "def extract_column_from_header(row):\n",
    "    if row is not None:\n",
    "        if row.a:\n",
    "            return row.a.text\n",
    "        else:\n",
    "            return row.get_text().strip()\n",
    "    return None\n",
    "\n",
    "# Extract column names\n",
    "column_names = []\n",
    "for th in first_launch_table.find_all('th'):\n",
    "    col_name = extract_column_from_header(th)\n",
    "    if col_name is not None and len(col_name) > 0:\n",
    "        column_names.append(col_name)\n",
    "\n",
    "# Check the extracted column names\n",
    "print(column_names)\n"
   ]
  },
  {
   "cell_type": "code",
   "execution_count": 11,
   "id": "6633db80-6e5d-4c92-bd44-0cbc2d00968f",
   "metadata": {},
   "outputs": [
    {
     "data": {
      "text/html": [
       "<div>\n",
       "<style scoped>\n",
       "    .dataframe tbody tr th:only-of-type {\n",
       "        vertical-align: middle;\n",
       "    }\n",
       "\n",
       "    .dataframe tbody tr th {\n",
       "        vertical-align: top;\n",
       "    }\n",
       "\n",
       "    .dataframe thead th {\n",
       "        text-align: right;\n",
       "    }\n",
       "</style>\n",
       "<table border=\"1\" class=\"dataframe\">\n",
       "  <thead>\n",
       "    <tr style=\"text-align: right;\">\n",
       "      <th></th>\n",
       "      <th>Flight No.</th>\n",
       "      <th>Date</th>\n",
       "      <th>Time</th>\n",
       "      <th>Version Booster</th>\n",
       "      <th>Launch Site</th>\n",
       "      <th>Payload</th>\n",
       "      <th>Payload Mass (kg)</th>\n",
       "      <th>Orbit</th>\n",
       "      <th>Customer</th>\n",
       "      <th>Launch Outcome</th>\n",
       "      <th>Booster Landing</th>\n",
       "    </tr>\n",
       "  </thead>\n",
       "  <tbody>\n",
       "  </tbody>\n",
       "</table>\n",
       "</div>"
      ],
      "text/plain": [
       "Empty DataFrame\n",
       "Columns: [Flight No., Date, Time, Version Booster, Launch Site, Payload, Payload Mass (kg), Orbit, Customer, Launch Outcome, Booster Landing]\n",
       "Index: []"
      ]
     },
     "execution_count": 11,
     "metadata": {},
     "output_type": "execute_result"
    }
   ],
   "source": [
    "# Step 1: Create the empty dictionary\n",
    "launch_dict = {\n",
    "    'Flight No.': [],\n",
    "    'Date': [],\n",
    "    'Time': [],\n",
    "    'Version Booster': [],\n",
    "    'Launch Site': [],\n",
    "    'Payload': [],\n",
    "    'Payload Mass (kg)': [],\n",
    "    'Orbit': [],\n",
    "    'Customer': [],\n",
    "    'Launch Outcome': [],\n",
    "    'Booster Landing': []\n",
    "}\n",
    "\n",
    "# Step 2: Parse the third table\n",
    "first_launch_table = html_tables[2]\n",
    "\n",
    "for row in first_launch_table.find_all('tr'):\n",
    "    table_cells = row.find_all('td')\n",
    "    \n",
    "    # Fix: process only if the row has AT LEAST 10 cells\n",
    "    if len(table_cells) >= 10:\n",
    "        flight_number = table_cells[0].text.strip()\n",
    "        launch_dict['Flight No.'].append(flight_number)\n",
    "        \n",
    "        date_time = table_cells[1].text.strip().split()\n",
    "        if len(date_time) >= 2:\n",
    "            date = date_time[0]\n",
    "            time = date_time[1]\n",
    "        else:\n",
    "            date = None\n",
    "            time = None\n",
    "        launch_dict['Date'].append(date)\n",
    "        launch_dict['Time'].append(time)\n",
    "        \n",
    "        booster_version = table_cells[2].text.strip()\n",
    "        launch_dict['Version Booster'].append(booster_version)\n",
    "        \n",
    "        launch_site = table_cells[3].text.strip()\n",
    "        launch_dict['Launch Site'].append(launch_site)\n",
    "        \n",
    "        payload = table_cells[4].text.strip()\n",
    "        launch_dict['Payload'].append(payload)\n",
    "        \n",
    "        payload_mass = table_cells[5].text.strip()\n",
    "        launch_dict['Payload Mass (kg)'].append(payload_mass)\n",
    "        \n",
    "        orbit = table_cells[6].text.strip()\n",
    "        launch_dict['Orbit'].append(orbit)\n",
    "        \n",
    "        customer = table_cells[7].text.strip()\n",
    "        launch_dict['Customer'].append(customer)\n",
    "        \n",
    "        launch_outcome = table_cells[8].text.strip()\n",
    "        launch_dict['Launch Outcome'].append(launch_outcome)\n",
    "        \n",
    "        booster_landing = table_cells[9].text.strip()\n",
    "        launch_dict['Booster Landing'].append(booster_landing)\n",
    "\n",
    "# Step 3: Create the DataFrame\n",
    "df = pd.DataFrame(launch_dict)\n",
    "\n",
    "# Step 4: Display\n",
    "df.head()\n"
   ]
  },
  {
   "cell_type": "code",
   "execution_count": null,
   "id": "3d625c8c-a086-4a63-b114-ccc3cf173337",
   "metadata": {},
   "outputs": [],
   "source": []
  }
 ],
 "metadata": {
  "kernelspec": {
   "display_name": "Python [conda env:base] *",
   "language": "python",
   "name": "conda-base-py"
  },
  "language_info": {
   "codemirror_mode": {
    "name": "ipython",
    "version": 3
   },
   "file_extension": ".py",
   "mimetype": "text/x-python",
   "name": "python",
   "nbconvert_exporter": "python",
   "pygments_lexer": "ipython3",
   "version": "3.12.7"
  }
 },
 "nbformat": 4,
 "nbformat_minor": 5
}
